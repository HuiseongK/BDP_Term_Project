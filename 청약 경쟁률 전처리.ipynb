{
 "cells": [
  {
   "cell_type": "code",
   "execution_count": 1,
   "id": "5765eed1",
   "metadata": {},
   "outputs": [
    {
     "name": "stdout",
     "output_type": "stream",
     "text": [
      "           주택관리번호        공고번호  모델번호        주택형 공급세대수  순위  거주코드  거주지역   접수건수  \\\n",
      "0      2020000001  2020000001     1  059.0000H   118   1     1  해당지역  15685   \n",
      "1      2020000001  2020000001     1  059.0000H   118   1     2  기타지역      0   \n",
      "2      2020000001  2020000001     1  059.0000H   118   2     1  해당지역      0   \n",
      "3      2020000001  2020000001     1  059.0000H   118   2     2  기타지역      0   \n",
      "4      2020000001  2020000001     2  084.0000H   122   1     1  해당지역  18139   \n",
      "...           ...         ...   ...        ...   ...  ..   ...   ...    ...   \n",
      "26505  2022000612  2022000612     3  084.9118C    79   2     2  기타지역      1   \n",
      "26506  2022000612  2022000612     4  114.9688     40   1     1  해당지역      8   \n",
      "26507  2022000612  2022000612     4  114.9688     40   1     2  기타지역      1   \n",
      "26508  2022000612  2022000612     4  114.9688     40   2     1  해당지역      6   \n",
      "26509  2022000612  2022000612     4  114.9688     40   2     2  기타지역      4   \n",
      "\n",
      "          경쟁률  최저당첨가점  최고당첨가점  평균당첨가점  \n",
      "0      132.92    -1.0    -1.0    -1.0  \n",
      "1         NaN     NaN     NaN     NaN  \n",
      "2         NaN    -1.0    -1.0    -1.0  \n",
      "3         NaN     NaN     NaN     NaN  \n",
      "4      148.68    -1.0    -1.0    -1.0  \n",
      "...       ...     ...     ...     ...  \n",
      "26505    69.0     NaN     NaN     NaN  \n",
      "26506    32.0    -1.0    -1.0    -1.0  \n",
      "26507    31.0     NaN     NaN     NaN  \n",
      "26508    25.0    -1.0    -1.0    -1.0  \n",
      "26509    21.0     NaN     NaN     NaN  \n",
      "\n",
      "[26510 rows x 13 columns]\n"
     ]
    }
   ],
   "source": [
    "import pandas as pd \n",
    "import numpy as np\n",
    "\n",
    "df=pd.read_csv('/Users/yoon/Desktop/빅데이터 프로그래밍/청약 경쟁률.csv')\n",
    "\n",
    "for a in range(0,len(df)):\n",
    "    result=str(df.iloc[a,9]).replace('△','')\n",
    "    result1=result.replace('(','')\n",
    "    result2=result1.replace(')','')\n",
    "    df.iloc[a,9]=float(result2)\n",
    "df.to_csv('청약 경쟁률.csv', encoding='utf-8-sig')   "
   ]
  },
  {
   "cell_type": "code",
   "execution_count": 33,
   "id": "5ed9140e",
   "metadata": {},
   "outputs": [],
   "source": []
  },
  {
   "cell_type": "code",
   "execution_count": 2,
   "id": "f0a8c576",
   "metadata": {},
   "outputs": [
    {
     "name": "stdout",
     "output_type": "stream",
     "text": [
      "          주택관리번호        공고번호                  주택명  주택구분코드 주택구분코드명  주택상세구분코드  \\\n",
      "0     2020000001  2020000001          SH 마곡지구 9단지       1     APT         3   \n",
      "1     2020000004  2020000004        대구연경A-2블록국민임대       1     APT         3   \n",
      "2     2020000005  2020000005       경북도청신도시 코오롱하늘채       1     APT         3   \n",
      "3     2020000007  2020000007         학성동 동남하이빌아파트       1     APT         1   \n",
      "4     2020000008  2020000008  제주첨단과학기술단지A23블록행복주택       1     APT         3   \n",
      "...          ...         ...                  ...     ...     ...       ...   \n",
      "1396  2022000601  2022000601              광혜원 포레가       1     APT         1   \n",
      "1397  2022000602  2022000602       e편한세상 주촌 더프리미어       1     APT         1   \n",
      "1398  2022000612  2022000612       옥천역 금호어울림 더퍼스트       1     APT         1   \n",
      "1399  2022000630  2022000630              장성 바울루체       1     APT         1   \n",
      "1400  2022000640  2022000640       천안 부성지구 우남퍼스트빌       1     APT         1   \n",
      "\n",
      "     주택상세구분코드명  분양구분코드    분양구분코드명  공급지역코드  ...           문의처  \\\n",
      "0           국민       0       분양주택     100  ...     1600-3456   \n",
      "1           국민       2  분양전환 불가임대     700  ...     1600-1004   \n",
      "2           국민       1  분양전환 가능임대     712  ...  054-843-1500   \n",
      "3           민영       0       분양주택     680  ...  052-268-1866   \n",
      "4           국민       2  분양전환 불가임대     690  ...  064-797-5500   \n",
      "...        ...     ...        ...     ...  ...           ...   \n",
      "1396        민영       0       분양주택     360  ...  043-534-8181   \n",
      "1397        민영       0       분양주택     621  ...  055-335-1777   \n",
      "1398        민영       0       분양주택     360  ...  043-731-4992   \n",
      "1399        민영       0       분양주택     513  ...  061-878-8786   \n",
      "1400        민영       0       분양주택     312  ...     1588-8034   \n",
      "\n",
      "             사업주체명(시행사)   입주예정월  투기과열지구 조정대상지역 분양가상한제 정비사업 공공주택지구 대규모택지개발지구  \\\n",
      "0              서울주택도시공사  202102       Y      Y      Y    N      N         N   \n",
      "1            한국토지주택대구경북  202005       N      N      N    N      N         N   \n",
      "2              경상북도개발공사  202007       N      N      N    N      N         N   \n",
      "3             동남건설산업(주)  202003       N      N      N    N      N         N   \n",
      "4            제주국제자유도시개발  202008       N      N      N    N      N         N   \n",
      "...                 ...     ...     ...    ...    ...  ...    ...       ...   \n",
      "1396          광혜원지역주택조합  202210       N      N      N    N      N         N   \n",
      "1397        주식회사 하나자산신탁  202512       N      N      N    N      N         N   \n",
      "1398          대한토지신탁(주)  202501       N      N      N    N      N         N   \n",
      "1399          한국자산신탁(주)  202408       N      N      N    N      N         N   \n",
      "1400  (주)더블유건설,(주)다림씨앤씨  202403       N      Y      N    N      N         N   \n",
      "\n",
      "     수도권내민영공공주택지구  \n",
      "0               N  \n",
      "1               N  \n",
      "2               N  \n",
      "3               N  \n",
      "4               N  \n",
      "...           ...  \n",
      "1396            N  \n",
      "1397            N  \n",
      "1398            N  \n",
      "1399            N  \n",
      "1400            N  \n",
      "\n",
      "[1401 rows x 40 columns]\n"
     ]
    }
   ],
   "source": []
  },
  {
   "cell_type": "code",
   "execution_count": 6,
   "id": "e45c69b4",
   "metadata": {},
   "outputs": [],
   "source": []
  },
  {
   "cell_type": "code",
   "execution_count": 26,
   "id": "857fe130",
   "metadata": {},
   "outputs": [
    {
     "name": "stdout",
     "output_type": "stream",
     "text": [
      "python\n",
      "python\n",
      "python\n",
      "python\n",
      "pythonli\n"
     ]
    }
   ],
   "source": []
  },
  {
   "cell_type": "code",
   "execution_count": 13,
   "id": "59c75d81",
   "metadata": {},
   "outputs": [
    {
     "name": "stdout",
     "output_type": "stream",
     "text": [
      "['It', 'is', 'important', 'to', 'be', 'very', 'pythonly', 'while', 'you', 'are', 'pythoning']\n",
      "it\n",
      "is\n",
      "import\n",
      "to\n",
      "be\n",
      "veri\n",
      "pythonli\n",
      "while\n",
      "you\n",
      "are\n",
      "python\n"
     ]
    }
   ],
   "source": []
  },
  {
   "cell_type": "code",
   "execution_count": 14,
   "id": "fc76e238",
   "metadata": {},
   "outputs": [
    {
     "name": "stdout",
     "output_type": "stream",
     "text": [
      "['it', 'is', 'import', 'to', 'be', 'veri', 'pythonli', 'while', 'you', 'are', 'python']\n"
     ]
    }
   ],
   "source": []
  },
  {
   "cell_type": "code",
   "execution_count": 32,
   "id": "34859cc0",
   "metadata": {},
   "outputs": [
    {
     "name": "stdout",
     "output_type": "stream",
     "text": [
      "['.', 'like', 'swim', 'swimmer']\n",
      "[[1 1 1 1]]\n",
      "[[2 0 1 1]]\n"
     ]
    }
   ],
   "source": []
  },
  {
   "cell_type": "code",
   "execution_count": 13,
   "id": "882f164a",
   "metadata": {},
   "outputs": [
    {
     "name": "stderr",
     "output_type": "stream",
     "text": [
      "C:\\Users\\yoon\\AppData\\Local\\Programs\\Python\\Python310\\lib\\site-packages\\sklearn\\feature_extraction\\text.py:516: UserWarning: The parameter 'token_pattern' will not be used since 'tokenizer' is not None'\n",
      "  warnings.warn(\n",
      "C:\\Users\\yoon\\AppData\\Local\\Programs\\Python\\Python310\\lib\\site-packages\\sklearn\\feature_extraction\\text.py:396: UserWarning: Your stop_words may be inconsistent with your preprocessing. Tokenizing the stop words generated tokens ['abov', 'afterward', 'alon', 'alreadi', 'alway', 'ani', 'anoth', 'anyon', 'anyth', 'anywher', 'becam', 'becaus', 'becom', 'befor', 'besid', 'cri', 'describ', 'dure', 'els', 'elsewher', 'empti', 'everi', 'everyon', 'everyth', 'everywher', 'fifti', 'formerli', 'forti', 'ha', 'henc', 'hereaft', 'herebi', 'hi', 'howev', 'hundr', 'inde', 'latterli', 'mani', 'meanwhil', 'moreov', 'mostli', 'nobodi', 'noon', 'noth', 'nowher', 'onc', 'onli', 'otherwis', 'ourselv', 'perhap', 'pleas', 'seriou', 'sever', 'sinc', 'sincer', 'sixti', 'someon', 'someth', 'sometim', 'somewher', 'themselv', 'thenc', 'thereaft', 'therebi', 'therefor', 'thi', 'thu', 'togeth', 'twelv', 'twenti', 'veri', 'wa', 'whatev', 'whenc', 'whenev', 'wherea', 'whereaft', 'wherebi', 'wherev', 'whi', 'yourselv'] not in stop_words.\n",
      "  warnings.warn(\n"
     ]
    },
    {
     "name": "stdout",
     "output_type": "stream",
     "text": [
      "정답률 =  0.17188\n"
     ]
    },
    {
     "name": "stderr",
     "output_type": "stream",
     "text": [
      "C:\\Users\\yoon\\AppData\\Local\\Programs\\Python\\Python310\\lib\\site-packages\\sklearn\\linear_model\\_logistic.py:814: ConvergenceWarning: lbfgs failed to converge (status=1):\n",
      "STOP: TOTAL NO. of ITERATIONS REACHED LIMIT.\n",
      "\n",
      "Increase the number of iterations (max_iter) or scale the data as shown in:\n",
      "    https://scikit-learn.org/stable/modules/preprocessing.html\n",
      "Please also refer to the documentation for alternative solver options:\n",
      "    https://scikit-learn.org/stable/modules/linear_model.html#logistic-regression\n",
      "  n_iter_i = _check_optimize_result(\n"
     ]
    }
   ],
   "source": []
  },
  {
   "cell_type": "code",
   "execution_count": 7,
   "id": "0875c239",
   "metadata": {},
   "outputs": [
    {
     "name": "stdout",
     "output_type": "stream",
     "text": [
      "정답률 =  0.7436\n"
     ]
    }
   ],
   "source": []
  },
  {
   "cell_type": "code",
   "execution_count": 14,
   "id": "037a0abd",
   "metadata": {},
   "outputs": [
    {
     "name": "stdout",
     "output_type": "stream",
     "text": [
      "[3 3 3]\n"
     ]
    }
   ],
   "source": []
  },
  {
   "cell_type": "code",
   "execution_count": 10,
   "id": "c774939a",
   "metadata": {},
   "outputs": [
    {
     "name": "stdout",
     "output_type": "stream",
     "text": [
      "정답률 =  0.0\n"
     ]
    }
   ],
   "source": []
  },
  {
   "cell_type": "code",
   "execution_count": 3,
   "id": "c343e741",
   "metadata": {},
   "outputs": [
    {
     "name": "stdout",
     "output_type": "stream",
     "text": [
      "150000 [75173 74827]\n",
      "50000 [24827 25173]\n"
     ]
    }
   ],
   "source": []
  },
  {
   "cell_type": "code",
   "execution_count": 4,
   "id": "4bb2c0fb",
   "metadata": {},
   "outputs": [
    {
     "ename": "NameError",
     "evalue": "name 'csv_data' is not defined",
     "output_type": "error",
     "traceback": [
      "\u001b[1;31m---------------------------------------------------------------------------\u001b[0m",
      "\u001b[1;31mNameError\u001b[0m                                 Traceback (most recent call last)",
      "Input \u001b[1;32mIn [4]\u001b[0m, in \u001b[0;36m<cell line: 5>\u001b[1;34m()\u001b[0m\n\u001b[0;32m      1\u001b[0m \u001b[38;5;28;01mimport\u001b[39;00m \u001b[38;5;21;01mpandas\u001b[39;00m \u001b[38;5;28;01mas\u001b[39;00m \u001b[38;5;21;01mpd\u001b[39;00m\n\u001b[0;32m      2\u001b[0m \u001b[38;5;28;01mfrom\u001b[39;00m \u001b[38;5;21;01msklearn\u001b[39;00m\u001b[38;5;21;01m.\u001b[39;00m\u001b[38;5;21;01mmodel_selection\u001b[39;00m \u001b[38;5;28;01mimport\u001b[39;00m train_test_split\n\u001b[0;32m      4\u001b[0m train_data, test_data, train_label, test_label \u001b[38;5;241m=\u001b[39m\\\n\u001b[1;32m----> 5\u001b[0m train_test_split(\u001b[43mcsv_data\u001b[49m, csv_label)\n",
      "\u001b[1;31mNameError\u001b[0m: name 'csv_data' is not defined"
     ]
    }
   ],
   "source": []
  },
  {
   "cell_type": "code",
   "execution_count": 5,
   "id": "e427b856",
   "metadata": {},
   "outputs": [
    {
     "name": "stdout",
     "output_type": "stream",
     "text": [
      "ok\n"
     ]
    }
   ],
   "source": []
  },
  {
   "cell_type": "code",
   "execution_count": 12,
   "id": "56141bd9",
   "metadata": {},
   "outputs": [
    {
     "name": "stdout",
     "output_type": "stream",
     "text": [
      "      0  1_b  1_c  1_f  1_k  1_s  1_x  2_f  2_g  2_s  ...  21_s  21_v  21_y  \\\n",
      "0     p    0    0    0    0    0    1    0    0    1  ...     1     0     0   \n",
      "1     e    0    0    0    0    0    1    0    0    1  ...     0     0     0   \n",
      "2     e    1    0    0    0    0    0    0    0    1  ...     0     0     0   \n",
      "3     p    0    0    0    0    0    1    0    0    0  ...     1     0     0   \n",
      "4     e    0    0    0    0    0    1    0    0    1  ...     0     0     0   \n",
      "...  ..  ...  ...  ...  ...  ...  ...  ...  ...  ...  ...   ...   ...   ...   \n",
      "8119  e    0    0    0    1    0    0    0    0    1  ...     0     0     0   \n",
      "8120  e    0    0    0    0    0    1    0    0    1  ...     0     1     0   \n",
      "8121  e    0    0    1    0    0    0    0    0    1  ...     0     0     0   \n",
      "8122  p    0    0    0    1    0    0    0    0    0  ...     0     1     0   \n",
      "8123  e    0    0    0    0    0    1    0    0    1  ...     0     0     0   \n",
      "\n",
      "      22_d  22_g  22_l  22_m  22_p  22_u  22_w  \n",
      "0        0     0     0     0     0     1     0  \n",
      "1        0     1     0     0     0     0     0  \n",
      "2        0     0     0     1     0     0     0  \n",
      "3        0     0     0     0     0     1     0  \n",
      "4        0     1     0     0     0     0     0  \n",
      "...    ...   ...   ...   ...   ...   ...   ...  \n",
      "8119     0     0     1     0     0     0     0  \n",
      "8120     0     0     1     0     0     0     0  \n",
      "8121     0     0     1     0     0     0     0  \n",
      "8122     0     0     1     0     0     0     0  \n",
      "8123     0     0     1     0     0     0     0  \n",
      "\n",
      "[8124 rows x 118 columns]\n",
      "     label pre\n",
      "5367     p   p\n",
      "6987     p   p\n",
      "3154     e   e\n",
      "2425     e   e\n",
      "3569     e   e\n",
      "819      e   e\n",
      "5938     e   e\n",
      "6220     p   p\n",
      "4237     p   p\n",
      "212      e   e\n",
      "정답률= 1.0\n"
     ]
    }
   ],
   "source": []
  },
  {
   "cell_type": "code",
   "execution_count": 12,
   "id": "5ccd123e",
   "metadata": {},
   "outputs": [
    {
     "name": "stdout",
     "output_type": "stream",
     "text": [
      "Execution time(seconds) 0.39\n",
      "각 validation 정답률=  [0.68511685 1.         1.         1.         1.         1.\n",
      " 1.         1.         0.9679803  1.        ]\n",
      "평균 정답률 :  0.97\n"
     ]
    }
   ],
   "source": []
  },
  {
   "cell_type": "raw",
   "id": "b26ff33c",
   "metadata": {},
   "source": []
  },
  {
   "cell_type": "code",
   "execution_count": null,
   "id": "95130732",
   "metadata": {},
   "outputs": [],
   "source": []
  }
 ],
 "metadata": {
  "kernelspec": {
   "display_name": "Python 3 (ipykernel)",
   "language": "python",
   "name": "python3"
  },
  "language_info": {
   "codemirror_mode": {
    "name": "ipython",
    "version": 3
   },
   "file_extension": ".py",
   "mimetype": "text/x-python",
   "name": "python",
   "nbconvert_exporter": "python",
   "pygments_lexer": "ipython3",
   "version": "3.10.4"
  }
 },
 "nbformat": 4,
 "nbformat_minor": 5
}
