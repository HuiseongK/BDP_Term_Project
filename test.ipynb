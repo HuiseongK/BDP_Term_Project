{
 "cells": [
  {
   "cell_type": "code",
   "execution_count": 21,
   "metadata": {},
   "outputs": [],
   "source": [
    "seoul = [11680, 11740, 11305, 11500, 11620, 11215, 11530, 11545, 11350, 11320, 11230, 11590 , 11440, 11410, 11650, 11200, 11290, 11710, 11470, 11560, 11170, 11380, 11110, 11140, 11260]\n",
    "gu = [\"강남구\", \"강동구\", \"강북구\", \"강서구\", \"관악구\", \"광진구\", \"구로구\", \"금천구\", \"노원구\", \"도봉구\",\n",
    "      \"동대문구\", \"동작구\", \"마포구\", \"서대문구\", \"서초구\", \"성동구\", \"성북구\", \"송파구\", \"양천구\", \"영등포구\",\n",
    "      \"용산구\", \"은평구\", \"종로구\", \"중구\", \"중랑구\"]"
   ]
  },
  {
   "cell_type": "code",
   "execution_count": 22,
   "metadata": {},
   "outputs": [
    {
     "data": {
      "text/plain": [
       "25"
      ]
     },
     "execution_count": 22,
     "metadata": {},
     "output_type": "execute_result"
    }
   ],
   "source": [
    "len(seoul)"
   ]
  },
  {
   "cell_type": "code",
   "execution_count": 23,
   "metadata": {},
   "outputs": [
    {
     "data": {
      "text/plain": [
       "25"
      ]
     },
     "execution_count": 23,
     "metadata": {},
     "output_type": "execute_result"
    }
   ],
   "source": [
    "len(gu)"
   ]
  },
  {
   "cell_type": "code",
   "execution_count": 24,
   "metadata": {},
   "outputs": [],
   "source": [
    "dict = {}"
   ]
  },
  {
   "cell_type": "code",
   "execution_count": 28,
   "metadata": {},
   "outputs": [],
   "source": [
    "for i in range(0, len(seoul)):\n",
    "    dict[seoul[i]] = gu[i]"
   ]
  },
  {
   "cell_type": "code",
   "execution_count": 26,
   "metadata": {},
   "outputs": [
    {
     "data": {
      "text/plain": [
       "{11680: '강남구',\n",
       " 11740: '강동구',\n",
       " 11305: '강북구',\n",
       " 11500: '강서구',\n",
       " 11620: '관악구',\n",
       " 11215: '광진구',\n",
       " 11530: '구로구',\n",
       " 11545: '금천구',\n",
       " 11350: '노원구',\n",
       " 11320: '도봉구',\n",
       " 11230: '동대문구',\n",
       " 11590: '동작구',\n",
       " 11440: '마포구',\n",
       " 11410: '서대문구',\n",
       " 11650: '서초구',\n",
       " 11200: '성동구',\n",
       " 11290: '성북구',\n",
       " 11710: '송파구',\n",
       " 11470: '양천구',\n",
       " 11560: '영등포구',\n",
       " 11170: '용산구',\n",
       " 11380: '은평구',\n",
       " 11110: '종로구',\n",
       " 11140: '중구',\n",
       " 11260: '중랑구'}"
      ]
     },
     "execution_count": 26,
     "metadata": {},
     "output_type": "execute_result"
    }
   ],
   "source": [
    "dict"
   ]
  },
  {
   "cell_type": "code",
   "execution_count": 31,
   "metadata": {},
   "outputs": [
    {
     "name": "stderr",
     "output_type": "stream",
     "text": [
      "C:\\Users\\kakao\\AppData\\Local\\Temp\\ipykernel_9220\\3398087804.py:4: SettingWithCopyWarning: \n",
      "A value is trying to be set on a copy of a slice from a DataFrame\n",
      "\n",
      "See the caveats in the documentation: https://pandas.pydata.org/pandas-docs/stable/user_guide/indexing.html#returning-a-view-versus-a-copy\n",
      "  d[\"법정동\"][i] = dict[d[\"지역코드\"][i]]\n"
     ]
    },
    {
     "ename": "KeyboardInterrupt",
     "evalue": "",
     "output_type": "error",
     "traceback": [
      "\u001b[1;31m---------------------------------------------------------------------------\u001b[0m",
      "\u001b[1;31mKeyboardInterrupt\u001b[0m                         Traceback (most recent call last)",
      "\u001b[1;32mc:\\BDP_Term_Project\\test.ipynb 셀 7\u001b[0m in \u001b[0;36m<cell line: 3>\u001b[1;34m()\u001b[0m\n\u001b[0;32m      <a href='vscode-notebook-cell:/c%3A/BDP_Term_Project/test.ipynb#W4sZmlsZQ%3D%3D?line=1'>2</a>\u001b[0m d \u001b[39m=\u001b[39m pd\u001b[39m.\u001b[39mread_csv(\u001b[39m\"\u001b[39m\u001b[39mseoul_pre.csv\u001b[39m\u001b[39m\"\u001b[39m)\n\u001b[0;32m      <a href='vscode-notebook-cell:/c%3A/BDP_Term_Project/test.ipynb#W4sZmlsZQ%3D%3D?line=2'>3</a>\u001b[0m \u001b[39mfor\u001b[39;00m i \u001b[39min\u001b[39;00m \u001b[39mrange\u001b[39m(\u001b[39mlen\u001b[39m(d[\u001b[39m\"\u001b[39m\u001b[39m법정동\u001b[39m\u001b[39m\"\u001b[39m])):\n\u001b[1;32m----> <a href='vscode-notebook-cell:/c%3A/BDP_Term_Project/test.ipynb#W4sZmlsZQ%3D%3D?line=3'>4</a>\u001b[0m     d[\u001b[39m\"\u001b[39m\u001b[39m법정동\u001b[39m\u001b[39m\"\u001b[39m][i] \u001b[39m=\u001b[39m \u001b[39mdict\u001b[39m[d[\u001b[39m\"\u001b[39m\u001b[39m지역코드\u001b[39m\u001b[39m\"\u001b[39m][i]]\n",
      "File \u001b[1;32mc:\\Users\\kakao\\.conda\\envs\\sda\\lib\\site-packages\\pandas\\core\\series.py:1175\u001b[0m, in \u001b[0;36mSeries.__setitem__\u001b[1;34m(self, key, value)\u001b[0m\n\u001b[0;32m   1172\u001b[0m         \u001b[39mself\u001b[39m\u001b[39m.\u001b[39m_set_with(key, value)\n\u001b[0;32m   1174\u001b[0m \u001b[39mif\u001b[39;00m cacher_needs_updating:\n\u001b[1;32m-> 1175\u001b[0m     \u001b[39mself\u001b[39;49m\u001b[39m.\u001b[39;49m_maybe_update_cacher(inplace\u001b[39m=\u001b[39;49m\u001b[39mTrue\u001b[39;49;00m)\n",
      "File \u001b[1;32mc:\\Users\\kakao\\.conda\\envs\\sda\\lib\\site-packages\\pandas\\core\\series.py:1320\u001b[0m, in \u001b[0;36mSeries._maybe_update_cacher\u001b[1;34m(self, clear, verify_is_copy, inplace)\u001b[0m\n\u001b[0;32m   1307\u001b[0m \u001b[39m# for CoW, we never want to update the parent DataFrame cache\u001b[39;00m\n\u001b[0;32m   1308\u001b[0m \u001b[39m# if the Series changed, and always pop the cached item\u001b[39;00m\n\u001b[0;32m   1309\u001b[0m \u001b[39melif\u001b[39;00m (\n\u001b[0;32m   1310\u001b[0m     \u001b[39mnot\u001b[39;00m (\n\u001b[0;32m   1311\u001b[0m         get_option(\u001b[39m\"\u001b[39m\u001b[39mmode.copy_on_write\u001b[39m\u001b[39m\"\u001b[39m)\n\u001b[1;32m   (...)\u001b[0m\n\u001b[0;32m   1318\u001b[0m     \u001b[39m# to ensure column still in dataframe\u001b[39;00m\n\u001b[0;32m   1319\u001b[0m     \u001b[39m# otherwise, either self or ref has swapped in new arrays\u001b[39;00m\n\u001b[1;32m-> 1320\u001b[0m     ref\u001b[39m.\u001b[39;49m_maybe_cache_changed(cacher[\u001b[39m0\u001b[39;49m], \u001b[39mself\u001b[39;49m, inplace\u001b[39m=\u001b[39;49minplace)\n\u001b[0;32m   1321\u001b[0m \u001b[39melse\u001b[39;00m:\n\u001b[0;32m   1322\u001b[0m     \u001b[39m# GH#33675 we have swapped in a new array, so parent\u001b[39;00m\n\u001b[0;32m   1323\u001b[0m     \u001b[39m#  reference to self is now invalid\u001b[39;00m\n\u001b[0;32m   1324\u001b[0m     ref\u001b[39m.\u001b[39m_item_cache\u001b[39m.\u001b[39mpop(cacher[\u001b[39m0\u001b[39m], \u001b[39mNone\u001b[39;00m)\n",
      "File \u001b[1;32mc:\\Users\\kakao\\.conda\\envs\\sda\\lib\\site-packages\\pandas\\core\\frame.py:4297\u001b[0m, in \u001b[0;36mDataFrame._maybe_cache_changed\u001b[1;34m(self, item, value, inplace)\u001b[0m\n\u001b[0;32m   4293\u001b[0m \u001b[39mif\u001b[39;00m old\u001b[39m.\u001b[39m_values \u001b[39mis\u001b[39;00m value\u001b[39m.\u001b[39m_values \u001b[39mand\u001b[39;00m inplace:\n\u001b[0;32m   4294\u001b[0m     \u001b[39m# GH#46149 avoid making unnecessary copies/block-splitting\u001b[39;00m\n\u001b[0;32m   4295\u001b[0m     \u001b[39mreturn\u001b[39;00m\n\u001b[1;32m-> 4297\u001b[0m \u001b[39mself\u001b[39;49m\u001b[39m.\u001b[39;49m_mgr\u001b[39m.\u001b[39;49miset(loc, arraylike, inplace\u001b[39m=\u001b[39;49minplace)\n",
      "File \u001b[1;32mc:\\Users\\kakao\\.conda\\envs\\sda\\lib\\site-packages\\pandas\\core\\internals\\managers.py:1231\u001b[0m, in \u001b[0;36mBlockManager.iset\u001b[1;34m(self, loc, value, inplace)\u001b[0m\n\u001b[0;32m   1229\u001b[0m \u001b[39m# Accessing public blknos ensures the public versions are initialized\u001b[39;00m\n\u001b[0;32m   1230\u001b[0m blknos \u001b[39m=\u001b[39m \u001b[39mself\u001b[39m\u001b[39m.\u001b[39mblknos[loc]\n\u001b[1;32m-> 1231\u001b[0m blklocs \u001b[39m=\u001b[39m \u001b[39mself\u001b[39;49m\u001b[39m.\u001b[39;49mblklocs[loc]\u001b[39m.\u001b[39;49mcopy()\n\u001b[0;32m   1233\u001b[0m unfit_mgr_locs \u001b[39m=\u001b[39m []\n\u001b[0;32m   1234\u001b[0m unfit_val_locs \u001b[39m=\u001b[39m []\n",
      "\u001b[1;31mKeyboardInterrupt\u001b[0m: "
     ]
    }
   ],
   "source": [
    "import pandas as pd\n",
    "d = pd.read_csv(\"seoul_pre.csv\")\n",
    "for i in range(len(d[\"법정동\"])):\n",
    "    d[\"법정동\"][i] = dict[d[\"지역코드\"][i]]"
   ]
  },
  {
   "cell_type": "code",
   "execution_count": null,
   "metadata": {},
   "outputs": [],
   "source": []
  }
 ],
 "metadata": {
  "kernelspec": {
   "display_name": "sda",
   "language": "python",
   "name": "python3"
  },
  "language_info": {
   "codemirror_mode": {
    "name": "ipython",
    "version": 3
   },
   "file_extension": ".py",
   "mimetype": "text/x-python",
   "name": "python",
   "nbconvert_exporter": "python",
   "pygments_lexer": "ipython3",
   "version": "3.10.0"
  },
  "orig_nbformat": 4,
  "vscode": {
   "interpreter": {
    "hash": "40bb3dbf642d5bbb420e72c97f65375e4dcce1a0fe590243bc08d86439e38e94"
   }
  }
 },
 "nbformat": 4,
 "nbformat_minor": 2
}
