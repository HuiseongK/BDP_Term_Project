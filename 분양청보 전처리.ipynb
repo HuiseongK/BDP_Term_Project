{
 "cells": [
  {
   "cell_type": "code",
   "execution_count": null,
   "id": "c9c09616",
   "metadata": {},
   "outputs": [],
   "source": [
    "import pandas as pd \n",
    "import numpy as np\n",
    "\n",
    "df=pd.read_csv('/Users/yoon/Desktop/빅데이터 프로그래밍/분양정보.csv')\n",
    "\n",
    "for a in range(0,len(df)):\n",
    "    result=df.iloc[a,12].split()\n",
    "    df.iloc[a,12]=result[1]\n",
    "\n",
    "for a in range(0,len(df)):\n",
    "    result=df.iloc[a,15].split('-')\n",
    "    df.iloc[a,15]=result[0]+'-'+result[1]\n",
    "\n",
    "df.to_csv('분양정보.csv', encoding='utf-8-sig')"
   ]
  }
 ],
 "metadata": {
  "kernelspec": {
   "display_name": "sda",
   "language": "python",
   "name": "python3"
  },
  "language_info": {
   "codemirror_mode": {
    "name": "ipython",
    "version": 3
   },
   "file_extension": ".py",
   "mimetype": "text/x-python",
   "name": "python",
   "nbconvert_exporter": "python",
   "pygments_lexer": "ipython3",
   "version": "3.10.0 | packaged by conda-forge | (default, Nov 10 2021, 13:20:59) [MSC v.1916 64 bit (AMD64)]"
  },
  "vscode": {
   "interpreter": {
    "hash": "40bb3dbf642d5bbb420e72c97f65375e4dcce1a0fe590243bc08d86439e38e94"
   }
  }
 },
 "nbformat": 4,
 "nbformat_minor": 5
}
