{
 "cells": [
  {
   "cell_type": "code",
   "execution_count": 18,
   "metadata": {},
   "outputs": [
    {
     "data": {
      "text/html": [
       "<div>\n",
       "<style scoped>\n",
       "    .dataframe tbody tr th:only-of-type {\n",
       "        vertical-align: middle;\n",
       "    }\n",
       "\n",
       "    .dataframe tbody tr th {\n",
       "        vertical-align: top;\n",
       "    }\n",
       "\n",
       "    .dataframe thead th {\n",
       "        text-align: right;\n",
       "    }\n",
       "</style>\n",
       "<table border=\"1\" class=\"dataframe\">\n",
       "  <thead>\n",
       "    <tr style=\"text-align: right;\">\n",
       "      <th></th>\n",
       "      <th>거래금액</th>\n",
       "      <th>거래유형</th>\n",
       "      <th>건축년도</th>\n",
       "      <th>년</th>\n",
       "      <th>법정동</th>\n",
       "      <th>아파트</th>\n",
       "      <th>월</th>\n",
       "      <th>일</th>\n",
       "      <th>전용면적</th>\n",
       "      <th>중개사소재지</th>\n",
       "      <th>지번</th>\n",
       "      <th>지역코드</th>\n",
       "      <th>층</th>\n",
       "      <th>해제사유발생일</th>\n",
       "      <th>해제여부</th>\n",
       "    </tr>\n",
       "  </thead>\n",
       "  <tbody>\n",
       "    <tr>\n",
       "      <th>0</th>\n",
       "      <td>135,000</td>\n",
       "      <td></td>\n",
       "      <td>1979</td>\n",
       "      <td>2016</td>\n",
       "      <td>역삼동</td>\n",
       "      <td>개나리4</td>\n",
       "      <td>1</td>\n",
       "      <td>5</td>\n",
       "      <td>176.8600</td>\n",
       "      <td></td>\n",
       "      <td>712</td>\n",
       "      <td>11680</td>\n",
       "      <td>3</td>\n",
       "      <td></td>\n",
       "      <td></td>\n",
       "    </tr>\n",
       "    <tr>\n",
       "      <th>1</th>\n",
       "      <td>80,500</td>\n",
       "      <td></td>\n",
       "      <td>2006</td>\n",
       "      <td>2016</td>\n",
       "      <td>역삼동</td>\n",
       "      <td>역삼푸르지오</td>\n",
       "      <td>1</td>\n",
       "      <td>6</td>\n",
       "      <td>59.8848</td>\n",
       "      <td></td>\n",
       "      <td>754-1</td>\n",
       "      <td>11680</td>\n",
       "      <td>6</td>\n",
       "      <td></td>\n",
       "      <td></td>\n",
       "    </tr>\n",
       "    <tr>\n",
       "      <th>2</th>\n",
       "      <td>79,000</td>\n",
       "      <td></td>\n",
       "      <td>2005</td>\n",
       "      <td>2016</td>\n",
       "      <td>역삼동</td>\n",
       "      <td>역삼래미안</td>\n",
       "      <td>1</td>\n",
       "      <td>7</td>\n",
       "      <td>59.4000</td>\n",
       "      <td></td>\n",
       "      <td>757</td>\n",
       "      <td>11680</td>\n",
       "      <td>8</td>\n",
       "      <td></td>\n",
       "      <td></td>\n",
       "    </tr>\n",
       "  </tbody>\n",
       "</table>\n",
       "</div>"
      ],
      "text/plain": [
       "           거래금액 거래유형  건축년도     년   법정동     아파트  월  일      전용면적 중개사소재지     지번  \\\n",
       "0       135,000       1979  2016   역삼동    개나리4  1  5  176.8600           712   \n",
       "1        80,500       2006  2016   역삼동  역삼푸르지오  1  6   59.8848         754-1   \n",
       "2        79,000       2005  2016   역삼동   역삼래미안  1  7   59.4000           757   \n",
       "\n",
       "    지역코드  층 해제사유발생일 해제여부  \n",
       "0  11680  3               \n",
       "1  11680  6               \n",
       "2  11680  8               "
      ]
     },
     "execution_count": 18,
     "metadata": {},
     "output_type": "execute_result"
    }
   ],
   "source": [
    "import pandas as pd\n",
    "\n",
    "data = pd.read_csv(\"seoul.csv\")\n",
    "data.head(3)"
   ]
  },
  {
   "cell_type": "code",
   "execution_count": 19,
   "metadata": {},
   "outputs": [
    {
     "data": {
      "text/plain": [
       "299596"
      ]
     },
     "execution_count": 19,
     "metadata": {},
     "output_type": "execute_result"
    }
   ],
   "source": [
    "len(data)"
   ]
  },
  {
   "cell_type": "code",
   "execution_count": 20,
   "metadata": {},
   "outputs": [],
   "source": [
    "def combine_columns(col_1, col_2):\n",
    "    result = str(col_1)\n",
    "    if len(str(col_2)) != 2:\n",
    "        result += \"0\" + str(col_2)\n",
    "    else:\n",
    "        result += \"\" + str(col_2)\n",
    "    return result\n",
    "\n",
    "data[\"year_month\"] = data.apply(lambda x: combine_columns(x[\"년\"], x[\"월\"]), axis=1)"
   ]
  },
  {
   "cell_type": "code",
   "execution_count": 21,
   "metadata": {},
   "outputs": [],
   "source": [
    "data[\"거래금액\"] = data[\"거래금액\"].str.strip()"
   ]
  },
  {
   "cell_type": "code",
   "execution_count": 22,
   "metadata": {},
   "outputs": [],
   "source": [
    "data[\"거래금액\"] = data[\"거래금액\"].str.replace(\",\", \"\")"
   ]
  },
  {
   "cell_type": "code",
   "execution_count": 23,
   "metadata": {},
   "outputs": [],
   "source": [
    "data[\"거래금액\"] = data[\"거래금액\"].astype(int)"
   ]
  },
  {
   "cell_type": "code",
   "execution_count": 24,
   "metadata": {},
   "outputs": [
    {
     "data": {
      "text/html": [
       "<div>\n",
       "<style scoped>\n",
       "    .dataframe tbody tr th:only-of-type {\n",
       "        vertical-align: middle;\n",
       "    }\n",
       "\n",
       "    .dataframe tbody tr th {\n",
       "        vertical-align: top;\n",
       "    }\n",
       "\n",
       "    .dataframe thead th {\n",
       "        text-align: right;\n",
       "    }\n",
       "</style>\n",
       "<table border=\"1\" class=\"dataframe\">\n",
       "  <thead>\n",
       "    <tr style=\"text-align: right;\">\n",
       "      <th></th>\n",
       "      <th>거래금액</th>\n",
       "      <th>거래유형</th>\n",
       "      <th>건축년도</th>\n",
       "      <th>년</th>\n",
       "      <th>법정동</th>\n",
       "      <th>아파트</th>\n",
       "      <th>월</th>\n",
       "      <th>일</th>\n",
       "      <th>전용면적</th>\n",
       "      <th>중개사소재지</th>\n",
       "      <th>지번</th>\n",
       "      <th>지역코드</th>\n",
       "      <th>층</th>\n",
       "      <th>해제사유발생일</th>\n",
       "      <th>해제여부</th>\n",
       "      <th>year_month</th>\n",
       "    </tr>\n",
       "  </thead>\n",
       "  <tbody>\n",
       "    <tr>\n",
       "      <th>0</th>\n",
       "      <td>135000</td>\n",
       "      <td></td>\n",
       "      <td>1979</td>\n",
       "      <td>2016</td>\n",
       "      <td>역삼동</td>\n",
       "      <td>개나리4</td>\n",
       "      <td>1</td>\n",
       "      <td>5</td>\n",
       "      <td>176.8600</td>\n",
       "      <td></td>\n",
       "      <td>712</td>\n",
       "      <td>11680</td>\n",
       "      <td>3</td>\n",
       "      <td></td>\n",
       "      <td></td>\n",
       "      <td>201601</td>\n",
       "    </tr>\n",
       "    <tr>\n",
       "      <th>1</th>\n",
       "      <td>80500</td>\n",
       "      <td></td>\n",
       "      <td>2006</td>\n",
       "      <td>2016</td>\n",
       "      <td>역삼동</td>\n",
       "      <td>역삼푸르지오</td>\n",
       "      <td>1</td>\n",
       "      <td>6</td>\n",
       "      <td>59.8848</td>\n",
       "      <td></td>\n",
       "      <td>754-1</td>\n",
       "      <td>11680</td>\n",
       "      <td>6</td>\n",
       "      <td></td>\n",
       "      <td></td>\n",
       "      <td>201601</td>\n",
       "    </tr>\n",
       "    <tr>\n",
       "      <th>2</th>\n",
       "      <td>79000</td>\n",
       "      <td></td>\n",
       "      <td>2005</td>\n",
       "      <td>2016</td>\n",
       "      <td>역삼동</td>\n",
       "      <td>역삼래미안</td>\n",
       "      <td>1</td>\n",
       "      <td>7</td>\n",
       "      <td>59.4000</td>\n",
       "      <td></td>\n",
       "      <td>757</td>\n",
       "      <td>11680</td>\n",
       "      <td>8</td>\n",
       "      <td></td>\n",
       "      <td></td>\n",
       "      <td>201601</td>\n",
       "    </tr>\n",
       "    <tr>\n",
       "      <th>3</th>\n",
       "      <td>42000</td>\n",
       "      <td></td>\n",
       "      <td>2006</td>\n",
       "      <td>2016</td>\n",
       "      <td>역삼동</td>\n",
       "      <td>역삼I'PARK</td>\n",
       "      <td>1</td>\n",
       "      <td>8</td>\n",
       "      <td>28.2460</td>\n",
       "      <td></td>\n",
       "      <td>713-11</td>\n",
       "      <td>11680</td>\n",
       "      <td>7</td>\n",
       "      <td></td>\n",
       "      <td></td>\n",
       "      <td>201601</td>\n",
       "    </tr>\n",
       "    <tr>\n",
       "      <th>4</th>\n",
       "      <td>25000</td>\n",
       "      <td></td>\n",
       "      <td>2002</td>\n",
       "      <td>2016</td>\n",
       "      <td>역삼동</td>\n",
       "      <td>대우디오빌</td>\n",
       "      <td>1</td>\n",
       "      <td>9</td>\n",
       "      <td>30.0300</td>\n",
       "      <td></td>\n",
       "      <td>720-25</td>\n",
       "      <td>11680</td>\n",
       "      <td>14</td>\n",
       "      <td></td>\n",
       "      <td></td>\n",
       "      <td>201601</td>\n",
       "    </tr>\n",
       "  </tbody>\n",
       "</table>\n",
       "</div>"
      ],
      "text/plain": [
       "     거래금액 거래유형  건축년도     년   법정동       아파트  월  일      전용면적 중개사소재지      지번  \\\n",
       "0  135000       1979  2016   역삼동      개나리4  1  5  176.8600            712   \n",
       "1   80500       2006  2016   역삼동    역삼푸르지오  1  6   59.8848          754-1   \n",
       "2   79000       2005  2016   역삼동     역삼래미안  1  7   59.4000            757   \n",
       "3   42000       2006  2016   역삼동  역삼I'PARK  1  8   28.2460         713-11   \n",
       "4   25000       2002  2016   역삼동     대우디오빌  1  9   30.0300         720-25   \n",
       "\n",
       "    지역코드   층 해제사유발생일 해제여부 year_month  \n",
       "0  11680   3                  201601  \n",
       "1  11680   6                  201601  \n",
       "2  11680   8                  201601  \n",
       "3  11680   7                  201601  \n",
       "4  11680  14                  201601  "
      ]
     },
     "execution_count": 24,
     "metadata": {},
     "output_type": "execute_result"
    }
   ],
   "source": [
    "data.head(5)"
   ]
  },
  {
   "cell_type": "code",
   "execution_count": 25,
   "metadata": {},
   "outputs": [
    {
     "data": {
      "text/plain": [
       "array([' 역삼동', ' 개포동', ' 청담동', ' 삼성동', ' 대치동', ' 신사동', ' 논현동', ' 압구정동',\n",
       "       ' 세곡동', ' 자곡동', ' 율현동', ' 일원동', ' 수서동', ' 도곡동', ' 명일동', ' 고덕동',\n",
       "       ' 상일동', ' 길동', ' 둔촌동', ' 암사동', ' 성내동', ' 천호동', ' 강일동', ' 미아동',\n",
       "       ' 번동', ' 수유동', ' 우이동', ' 염창동', ' 등촌동', ' 화곡동', ' 가양동', ' 마곡동',\n",
       "       ' 내발산동', ' 공항동', ' 방화동', ' 봉천동', ' 신림동', ' 남현동', ' 중곡동', ' 구의동',\n",
       "       ' 광장동', ' 자양동', ' 화양동', ' 군자동', ' 능동', ' 신도림동', ' 구로동', ' 고척동',\n",
       "       ' 개봉동', ' 오류동', ' 온수동', ' 천왕동', ' 가리봉동', ' 궁동', ' 항동', ' 가산동',\n",
       "       ' 독산동', ' 시흥동', ' 월계동', ' 공릉동', ' 하계동', ' 상계동', ' 중계동', ' 쌍문동',\n",
       "       ' 방학동', ' 창동', ' 도봉동', ' 용두동', ' 제기동', ' 전농동', ' 답십리동', ' 장안동',\n",
       "       ' 청량리동', ' 회기동', ' 휘경동', ' 이문동', ' 신설동', ' 노량진동', ' 상도동', ' 본동',\n",
       "       ' 흑석동', ' 동작동', ' 사당동', ' 대방동', ' 신대방동', ' 상도1동', ' 아현동', ' 공덕동',\n",
       "       ' 신공덕동', ' 도화동', ' 용강동', ' 토정동', ' 마포동', ' 대흥동', ' 염리동', ' 노고산동',\n",
       "       ' 신수동', ' 현석동', ' 창전동', ' 상수동', ' 하중동', ' 신정동', ' 서교동', ' 합정동',\n",
       "       ' 망원동', ' 연남동', ' 성산동', ' 중동', ' 상암동', ' 동교동', ' 구수동', ' 충정로2가',\n",
       "       ' 충정로3가', ' 합동', ' 미근동', ' 냉천동', ' 천연동', ' 영천동', ' 현저동', ' 북아현동',\n",
       "       ' 홍제동', ' 대현동', ' 창천동', ' 연희동', ' 홍은동', ' 북가좌동', ' 남가좌동'],\n",
       "      dtype=object)"
      ]
     },
     "execution_count": 25,
     "metadata": {},
     "output_type": "execute_result"
    }
   ],
   "source": [
    "data[\"법정동\"].unique()"
   ]
  },
  {
   "cell_type": "code",
   "execution_count": 26,
   "metadata": {},
   "outputs": [],
   "source": [
    "data.to_csv(\"seoul_pre.csv\", encoding = \"utf-8-sig\")"
   ]
  },
  {
   "cell_type": "code",
   "execution_count": null,
   "metadata": {},
   "outputs": [],
   "source": []
  }
 ],
 "metadata": {
  "kernelspec": {
   "display_name": "Python 3.10.0 ('sda')",
   "language": "python",
   "name": "python3"
  },
  "language_info": {
   "codemirror_mode": {
    "name": "ipython",
    "version": 3
   },
   "file_extension": ".py",
   "mimetype": "text/x-python",
   "name": "python",
   "nbconvert_exporter": "python",
   "pygments_lexer": "ipython3",
   "version": "3.10.0"
  },
  "orig_nbformat": 4,
  "vscode": {
   "interpreter": {
    "hash": "40bb3dbf642d5bbb420e72c97f65375e4dcce1a0fe590243bc08d86439e38e94"
   }
  }
 },
 "nbformat": 4,
 "nbformat_minor": 2
}
